{
 "cells": [
  {
   "cell_type": "code",
   "execution_count": 1,
   "id": "79960009-a5b0-419c-8d8c-fae8703f2fb5",
   "metadata": {},
   "outputs": [],
   "source": [
    "import json\n",
    "import pandas as pd"
   ]
  },
  {
   "cell_type": "code",
   "execution_count": 2,
   "id": "6e7010d0-1147-426d-9401-13d78cabc25f",
   "metadata": {},
   "outputs": [],
   "source": [
    "# read servers index file\n",
    "with open(\"package/servers/index.json\", \"r\") as read_file:\n",
    "    servers_index = json.load(read_file)"
   ]
  },
  {
   "cell_type": "code",
   "execution_count": 3,
   "id": "13951880-e82c-4a84-80da-0b04945b6336",
   "metadata": {},
   "outputs": [],
   "source": [
    "# build dim_servers table\n",
    "dim_servers = pd.DataFrame.from_dict(servers_index, orient='index')\n",
    "\n",
    "# rename columns\n",
    "dim_servers.reset_index(inplace=True)\n",
    "dim_servers.columns = ['server_id', 'server_name']"
   ]
  },
  {
   "cell_type": "code",
   "execution_count": 4,
   "id": "1654c06b-a056-46d4-95c8-352b517fa505",
   "metadata": {},
   "outputs": [
    {
     "name": "stdout",
     "output_type": "stream",
     "text": [
      "<class 'pandas.core.frame.DataFrame'>\n",
      "RangeIndex: 37 entries, 0 to 36\n",
      "Data columns (total 2 columns):\n",
      " #   Column       Non-Null Count  Dtype \n",
      "---  ------       --------------  ----- \n",
      " 0   server_id    37 non-null     object\n",
      " 1   server_name  37 non-null     object\n",
      "dtypes: object(2)\n",
      "memory usage: 720.0+ bytes\n"
     ]
    }
   ],
   "source": [
    "# check data types\n",
    "dim_servers.info()"
   ]
  },
  {
   "cell_type": "code",
   "execution_count": 5,
   "id": "f1c123d3-753b-443a-8dbc-d4182b909a21",
   "metadata": {},
   "outputs": [
    {
     "name": "stdout",
     "output_type": "stream",
     "text": [
      "<class 'pandas.core.frame.DataFrame'>\n",
      "RangeIndex: 37 entries, 0 to 36\n",
      "Data columns (total 2 columns):\n",
      " #   Column       Non-Null Count  Dtype \n",
      "---  ------       --------------  ----- \n",
      " 0   server_id    37 non-null     int64 \n",
      " 1   server_name  37 non-null     object\n",
      "dtypes: int64(1), object(1)\n",
      "memory usage: 720.0+ bytes\n"
     ]
    }
   ],
   "source": [
    "# convert types\n",
    "dim_servers['server_id'] = pd.to_numeric(dim_servers['server_id'])\n",
    "dim_servers.info()"
   ]
  },
  {
   "cell_type": "code",
   "execution_count": 6,
   "id": "c96fca87-6385-4a3c-baf4-78e342ecea56",
   "metadata": {},
   "outputs": [],
   "source": [
    "# write to csv\n",
    "dim_servers.to_csv(\"dim_servers.csv\", index=False)"
   ]
  },
  {
   "cell_type": "code",
   "execution_count": 7,
   "id": "43104b79-63d4-44b4-8305-7f4f4abc09f4",
   "metadata": {},
   "outputs": [],
   "source": [
    "# read messages index file\n",
    "with open(\"package/messages/index.json\", \"r\") as read_file:\n",
    "    messages_index = json.load(read_file)"
   ]
  },
  {
   "cell_type": "code",
   "execution_count": 8,
   "id": "9b79c1be-887d-464b-9b00-7c233df50a2a",
   "metadata": {},
   "outputs": [],
   "source": [
    "# build dim_channels table\n",
    "dim_channels = pd.DataFrame.from_dict(messages_index, orient='index')\n",
    "\n",
    "# rename columns\n",
    "dim_channels.reset_index(inplace=True)\n",
    "dim_channels.columns = ['channel_id', 'channel_name']"
   ]
  },
  {
   "cell_type": "code",
   "execution_count": 9,
   "id": "67e929e4-e6ec-4144-8189-4cfaea4f76e4",
   "metadata": {},
   "outputs": [],
   "source": [
    "# add channel_type_key, server_id\n",
    "channel_type_key_list = []\n",
    "server_id_list = []\n",
    "\n",
    "for (key, value) in messages_index.items():\n",
    "    # create file path\n",
    "    file_path_head = \"package/messages/c\" + key\n",
    "    json_file_path = file_path_head + \"/channel.json\"\n",
    "    \n",
    "    # key is channel_id\n",
    "    # value is channel_name\n",
    "    \n",
    "    # read json file\n",
    "    with open(json_file_path, \"r\") as read_file:\n",
    "        json_file = json.load(read_file)\n",
    "        channel_type_key = json_file['type']\n",
    "        try:\n",
    "            server_id = json_file['guild']['id']\n",
    "        except:\n",
    "            server_id = None\n",
    "            \n",
    "    channel_type_key_list.append(channel_type_key)\n",
    "    server_id_list.append(server_id)\n",
    "\n",
    "dim_channels['channel_type_key'] = channel_type_key_list\n",
    "dim_channels['server_id'] = server_id_list"
   ]
  },
  {
   "cell_type": "code",
   "execution_count": 10,
   "id": "9cdad37f-17fb-498e-974a-2f9eb417300e",
   "metadata": {},
   "outputs": [
    {
     "name": "stdout",
     "output_type": "stream",
     "text": [
      "<class 'pandas.core.frame.DataFrame'>\n",
      "RangeIndex: 764 entries, 0 to 763\n",
      "Data columns (total 4 columns):\n",
      " #   Column            Non-Null Count  Dtype \n",
      "---  ------            --------------  ----- \n",
      " 0   channel_id        764 non-null    object\n",
      " 1   channel_name      663 non-null    object\n",
      " 2   channel_type_key  764 non-null    int64 \n",
      " 3   server_id         343 non-null    object\n",
      "dtypes: int64(1), object(3)\n",
      "memory usage: 24.0+ KB\n"
     ]
    }
   ],
   "source": [
    "# check data types\n",
    "dim_channels.info()"
   ]
  },
  {
   "cell_type": "code",
   "execution_count": 11,
   "id": "21d10034-5658-4465-9b45-f74bdc7658b6",
   "metadata": {},
   "outputs": [
    {
     "name": "stdout",
     "output_type": "stream",
     "text": [
      "<class 'pandas.core.frame.DataFrame'>\n",
      "RangeIndex: 764 entries, 0 to 763\n",
      "Data columns (total 4 columns):\n",
      " #   Column            Non-Null Count  Dtype  \n",
      "---  ------            --------------  -----  \n",
      " 0   channel_id        764 non-null    int64  \n",
      " 1   channel_name      663 non-null    object \n",
      " 2   channel_type_key  764 non-null    int64  \n",
      " 3   server_id         343 non-null    float64\n",
      "dtypes: float64(1), int64(2), object(1)\n",
      "memory usage: 24.0+ KB\n"
     ]
    }
   ],
   "source": [
    "# convert types\n",
    "dim_channels['channel_id'] = pd.to_numeric(dim_channels['channel_id'])\n",
    "dim_channels['channel_type_key'] = pd.to_numeric(dim_channels['channel_type_key'])\n",
    "dim_channels['server_id'] = pd.to_numeric(dim_channels['server_id'])\n",
    "dim_channels.info()"
   ]
  },
  {
   "cell_type": "code",
   "execution_count": 12,
   "id": "3cd8179d-34fe-491c-98fc-4b1d2dc6a7fa",
   "metadata": {},
   "outputs": [],
   "source": [
    "# write to csv\n",
    "dim_channels.to_csv(\"dim_channels.csv\", index=False)"
   ]
  },
  {
   "cell_type": "code",
   "execution_count": 13,
   "id": "f3396260-d763-4dbe-87e6-a08abb004835",
   "metadata": {},
   "outputs": [],
   "source": [
    "# build fact_messages table\n",
    "col_names = ['message_id', 'timestamp', 'contents', 'attachment_link']\n",
    "fact_messages = pd.DataFrame(columns=col_names)\n",
    "\n",
    "for (key, value) in messages_index.items():\n",
    "    # create file path\n",
    "    file_path_head = \"package/messages/c\" + key\n",
    "    csv_file_path = file_path_head + \"/messages.csv\"\n",
    "    \n",
    "    # read csv file\n",
    "    with open(csv_file_path, \"rb\") as read_file:\n",
    "        df_temp = pd.read_csv(read_file)\n",
    "   \n",
    "    df_temp.columns = col_names\n",
    "    \n",
    "    # add channel_id col with key\n",
    "    df_temp['channel_id'] = pd.Series(dtype='int64')\n",
    "    df_temp['channel_id'].fillna(key, inplace=True)\n",
    "    \n",
    "    # append to main fact_messages file\n",
    "    fact_messages = pd.concat([fact_messages, df_temp])"
   ]
  },
  {
   "cell_type": "code",
   "execution_count": 14,
   "id": "8cb60504-1acd-483e-ba39-3d5d76ce6426",
   "metadata": {},
   "outputs": [
    {
     "name": "stdout",
     "output_type": "stream",
     "text": [
      "<class 'pandas.core.frame.DataFrame'>\n",
      "Int64Index: 54074 entries, 0 to 0\n",
      "Data columns (total 5 columns):\n",
      " #   Column           Non-Null Count  Dtype \n",
      "---  ------           --------------  ----- \n",
      " 0   message_id       54074 non-null  object\n",
      " 1   timestamp        54074 non-null  object\n",
      " 2   contents         53023 non-null  object\n",
      " 3   attachment_link  1236 non-null   object\n",
      " 4   channel_id       54074 non-null  object\n",
      "dtypes: object(5)\n",
      "memory usage: 2.5+ MB\n"
     ]
    }
   ],
   "source": [
    "fact_messages.info()"
   ]
  },
  {
   "cell_type": "code",
   "execution_count": 15,
   "id": "ff723543-7f4d-4e00-899d-b172872f7dca",
   "metadata": {},
   "outputs": [
    {
     "name": "stdout",
     "output_type": "stream",
     "text": [
      "<class 'pandas.core.frame.DataFrame'>\n",
      "Int64Index: 54074 entries, 0 to 0\n",
      "Data columns (total 5 columns):\n",
      " #   Column           Non-Null Count  Dtype \n",
      "---  ------           --------------  ----- \n",
      " 0   message_id       54074 non-null  int64 \n",
      " 1   timestamp        54074 non-null  object\n",
      " 2   contents         53023 non-null  object\n",
      " 3   attachment_link  1236 non-null   object\n",
      " 4   channel_id       54074 non-null  int64 \n",
      "dtypes: int64(2), object(3)\n",
      "memory usage: 2.5+ MB\n"
     ]
    }
   ],
   "source": [
    "# convert types\n",
    "fact_messages['message_id'] = pd.to_numeric(fact_messages['message_id'])\n",
    "fact_messages['channel_id'] = pd.to_numeric(fact_messages['channel_id'])\n",
    "fact_messages.info()"
   ]
  },
  {
   "cell_type": "code",
   "execution_count": 17,
   "id": "b9a7dd26-baed-4656-b349-c1c9f38307d8",
   "metadata": {},
   "outputs": [],
   "source": [
    "fact_messages.to_csv(\"fact_messages.csv\", index=False)"
   ]
  },
  {
   "cell_type": "code",
   "execution_count": null,
   "id": "e548474c-6665-4f75-99d4-47e9a3dc7e27",
   "metadata": {},
   "outputs": [],
   "source": []
  }
 ],
 "metadata": {
  "kernelspec": {
   "display_name": "Python 3 (ipykernel)",
   "language": "python",
   "name": "python3"
  },
  "language_info": {
   "codemirror_mode": {
    "name": "ipython",
    "version": 3
   },
   "file_extension": ".py",
   "mimetype": "text/x-python",
   "name": "python",
   "nbconvert_exporter": "python",
   "pygments_lexer": "ipython3",
   "version": "3.9.12"
  }
 },
 "nbformat": 4,
 "nbformat_minor": 5
}
