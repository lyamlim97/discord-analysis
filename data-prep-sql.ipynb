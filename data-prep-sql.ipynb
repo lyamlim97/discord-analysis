{
 "cells": [
  {
   "cell_type": "code",
   "execution_count": 1,
   "id": "79960009-a5b0-419c-8d8c-fae8703f2fb5",
   "metadata": {},
   "outputs": [],
   "source": [
    "import json\n",
    "import pandas as pd"
   ]
  },
  {
   "cell_type": "code",
   "execution_count": 2,
   "id": "6e7010d0-1147-426d-9401-13d78cabc25f",
   "metadata": {},
   "outputs": [],
   "source": [
    "# read servers index file\n",
    "with open(\"package/servers/index.json\", \"r\") as read_file:\n",
    "    servers_index = json.load(read_file)"
   ]
  },
  {
   "cell_type": "code",
   "execution_count": 3,
   "id": "13951880-e82c-4a84-80da-0b04945b6336",
   "metadata": {},
   "outputs": [],
   "source": [
    "# build dim_servers table\n",
    "dim_server = pd.DataFrame.from_dict(servers_index, orient='index')\n",
    "\n",
    "# rename columns\n",
    "dim_server.reset_index(inplace=True)\n",
    "dim_server.columns = ['server_id', 'server_name']"
   ]
  },
  {
   "cell_type": "code",
   "execution_count": 4,
   "id": "1654c06b-a056-46d4-95c8-352b517fa505",
   "metadata": {},
   "outputs": [
    {
     "name": "stdout",
     "output_type": "stream",
     "text": [
      "<class 'pandas.core.frame.DataFrame'>\n",
      "RangeIndex: 68 entries, 0 to 67\n",
      "Data columns (total 2 columns):\n",
      " #   Column       Non-Null Count  Dtype \n",
      "---  ------       --------------  ----- \n",
      " 0   server_id    68 non-null     object\n",
      " 1   server_name  68 non-null     object\n",
      "dtypes: object(2)\n",
      "memory usage: 1.2+ KB\n"
     ]
    }
   ],
   "source": [
    "# check data types\n",
    "dim_server.info()"
   ]
  },
  {
   "cell_type": "code",
   "execution_count": 5,
   "id": "f1c123d3-753b-443a-8dbc-d4182b909a21",
   "metadata": {},
   "outputs": [
    {
     "name": "stdout",
     "output_type": "stream",
     "text": [
      "<class 'pandas.core.frame.DataFrame'>\n",
      "RangeIndex: 68 entries, 0 to 67\n",
      "Data columns (total 2 columns):\n",
      " #   Column       Non-Null Count  Dtype \n",
      "---  ------       --------------  ----- \n",
      " 0   server_id    68 non-null     Int64 \n",
      " 1   server_name  68 non-null     object\n",
      "dtypes: Int64(1), object(1)\n",
      "memory usage: 1.3+ KB\n"
     ]
    }
   ],
   "source": [
    "# convert types\n",
    "dim_server['server_id'] = dim_server['server_id'].astype('Int64')\n",
    "dim_server.info()"
   ]
  },
  {
   "cell_type": "code",
   "execution_count": 6,
   "id": "c96fca87-6385-4a3c-baf4-78e342ecea56",
   "metadata": {},
   "outputs": [],
   "source": [
    "# write to csv\n",
    "dim_server.to_csv(\"dim_server.csv\", index=False,)"
   ]
  },
  {
   "cell_type": "code",
   "execution_count": 7,
   "id": "43104b79-63d4-44b4-8305-7f4f4abc09f4",
   "metadata": {},
   "outputs": [],
   "source": [
    "# read messages index file\n",
    "with open(\"package/messages/index.json\", \"r\") as read_file:\n",
    "    messages_index = json.load(read_file)"
   ]
  },
  {
   "cell_type": "code",
   "execution_count": 8,
   "id": "9b79c1be-887d-464b-9b00-7c233df50a2a",
   "metadata": {},
   "outputs": [],
   "source": [
    "# build dim_channel table\n",
    "dim_channel = pd.DataFrame.from_dict(messages_index, orient='index')\n",
    "\n",
    "# rename columns\n",
    "dim_channel.reset_index(inplace=True)\n",
    "dim_channel.columns = ['channel_id', 'channel_name']"
   ]
  },
  {
   "cell_type": "code",
   "execution_count": 9,
   "id": "67e929e4-e6ec-4144-8189-4cfaea4f76e4",
   "metadata": {},
   "outputs": [],
   "source": [
    "# add channel_type_key, server_id\n",
    "channel_type_key_list = []\n",
    "server_id_list = []\n",
    "\n",
    "for (key, value) in messages_index.items():\n",
    "    # create file path\n",
    "    file_path_head = \"package/messages/c\" + key\n",
    "    json_file_path = file_path_head + \"/channel.json\"\n",
    "    \n",
    "    # key is channel_id\n",
    "    # value is channel_name\n",
    "    \n",
    "    # read json file\n",
    "    with open(json_file_path, \"r\") as read_file:\n",
    "        json_file = json.load(read_file)\n",
    "        channel_type_key = json_file['type']\n",
    "        try:\n",
    "            server_id = json_file['guild']['id']\n",
    "        except:\n",
    "            server_id = None\n",
    "            \n",
    "    channel_type_key_list.append(channel_type_key)\n",
    "    server_id_list.append(server_id)\n",
    "\n",
    "dim_channel['channel_type_key'] = channel_type_key_list\n",
    "dim_channel['server_id'] = server_id_list"
   ]
  },
  {
   "cell_type": "code",
   "execution_count": 10,
   "id": "9cdad37f-17fb-498e-974a-2f9eb417300e",
   "metadata": {},
   "outputs": [
    {
     "name": "stdout",
     "output_type": "stream",
     "text": [
      "<class 'pandas.core.frame.DataFrame'>\n",
      "RangeIndex: 941 entries, 0 to 940\n",
      "Data columns (total 4 columns):\n",
      " #   Column            Non-Null Count  Dtype \n",
      "---  ------            --------------  ----- \n",
      " 0   channel_id        941 non-null    object\n",
      " 1   channel_name      699 non-null    object\n",
      " 2   channel_type_key  941 non-null    int64 \n",
      " 3   server_id         317 non-null    object\n",
      "dtypes: int64(1), object(3)\n",
      "memory usage: 29.5+ KB\n"
     ]
    }
   ],
   "source": [
    "# check data types\n",
    "dim_channel.info()"
   ]
  },
  {
   "cell_type": "code",
   "execution_count": 11,
   "id": "21d10034-5658-4465-9b45-f74bdc7658b6",
   "metadata": {},
   "outputs": [
    {
     "name": "stdout",
     "output_type": "stream",
     "text": [
      "<class 'pandas.core.frame.DataFrame'>\n",
      "RangeIndex: 941 entries, 0 to 940\n",
      "Data columns (total 4 columns):\n",
      " #   Column            Non-Null Count  Dtype \n",
      "---  ------            --------------  ----- \n",
      " 0   channel_id        941 non-null    Int64 \n",
      " 1   channel_name      699 non-null    object\n",
      " 2   channel_type_key  941 non-null    Int64 \n",
      " 3   server_id         317 non-null    Int64 \n",
      "dtypes: Int64(3), object(1)\n",
      "memory usage: 32.3+ KB\n"
     ]
    }
   ],
   "source": [
    "# convert types\n",
    "dim_channel['channel_id'] = dim_channel['channel_id'].astype('Int64')\n",
    "dim_channel['channel_type_key'] = dim_channel['channel_type_key'].astype('Int64')\n",
    "dim_channel['server_id'] = dim_channel['server_id'].astype('Int64')\n",
    "dim_channel.info()"
   ]
  },
  {
   "cell_type": "code",
   "execution_count": 12,
   "id": "3cd8179d-34fe-491c-98fc-4b1d2dc6a7fa",
   "metadata": {},
   "outputs": [],
   "source": [
    "# write to csv\n",
    "dim_channel.to_csv(\"dim_channel.csv\", index=False)"
   ]
  },
  {
   "cell_type": "code",
   "execution_count": 13,
   "id": "f3396260-d763-4dbe-87e6-a08abb004835",
   "metadata": {},
   "outputs": [],
   "source": [
    "# build fact_messages table\n",
    "col_names = ['message_id', 'timestamp', 'contents', 'attachment_link']\n",
    "fact_messages = pd.DataFrame(columns=col_names)\n",
    "\n",
    "for (key, value) in messages_index.items():\n",
    "    # create file path\n",
    "    file_path_head = \"package/messages/c\" + key\n",
    "    csv_file_path = file_path_head + \"/messages.csv\"\n",
    "    \n",
    "    # read csv file\n",
    "    with open(csv_file_path, \"rb\") as read_file:\n",
    "        df_temp = pd.read_csv(read_file)\n",
    "   \n",
    "    df_temp.columns = col_names\n",
    "    \n",
    "    # add channel_id col with key\n",
    "    df_temp['channel_id'] = pd.Series(dtype='int64')\n",
    "    df_temp['channel_id'].fillna(key, inplace=True)\n",
    "    \n",
    "    # append to main fact_messages file\n",
    "    fact_messages = pd.concat([fact_messages, df_temp])"
   ]
  },
  {
   "cell_type": "code",
   "execution_count": 14,
   "id": "8cb60504-1acd-483e-ba39-3d5d76ce6426",
   "metadata": {},
   "outputs": [
    {
     "name": "stdout",
     "output_type": "stream",
     "text": [
      "<class 'pandas.core.frame.DataFrame'>\n",
      "Int64Index: 126092 entries, 0 to 2\n",
      "Data columns (total 5 columns):\n",
      " #   Column           Non-Null Count   Dtype \n",
      "---  ------           --------------   ----- \n",
      " 0   message_id       126092 non-null  object\n",
      " 1   timestamp        126092 non-null  object\n",
      " 2   contents         123823 non-null  object\n",
      " 3   attachment_link  2655 non-null    object\n",
      " 4   channel_id       126092 non-null  object\n",
      "dtypes: object(5)\n",
      "memory usage: 5.8+ MB\n"
     ]
    }
   ],
   "source": [
    "fact_messages.info()"
   ]
  },
  {
   "cell_type": "code",
   "execution_count": 15,
   "id": "ff723543-7f4d-4e00-899d-b172872f7dca",
   "metadata": {},
   "outputs": [
    {
     "name": "stdout",
     "output_type": "stream",
     "text": [
      "<class 'pandas.core.frame.DataFrame'>\n",
      "Int64Index: 126092 entries, 0 to 2\n",
      "Data columns (total 5 columns):\n",
      " #   Column           Non-Null Count   Dtype \n",
      "---  ------           --------------   ----- \n",
      " 0   message_id       126092 non-null  Int64 \n",
      " 1   timestamp        126092 non-null  object\n",
      " 2   contents         123823 non-null  object\n",
      " 3   attachment_link  2655 non-null    object\n",
      " 4   channel_id       126092 non-null  Int64 \n",
      "dtypes: Int64(2), object(3)\n",
      "memory usage: 6.0+ MB\n"
     ]
    }
   ],
   "source": [
    "# convert types\n",
    "fact_messages['message_id'] = fact_messages['message_id'].astype('Int64')\n",
    "fact_messages['channel_id'] = fact_messages['channel_id'].astype('Int64')\n",
    "fact_messages.info()"
   ]
  },
  {
   "cell_type": "code",
   "execution_count": 16,
   "id": "b9a7dd26-baed-4656-b349-c1c9f38307d8",
   "metadata": {},
   "outputs": [],
   "source": [
    "fact_messages.to_csv(\"fact_messages.csv\", index=False)"
   ]
  },
  {
   "cell_type": "code",
   "execution_count": 17,
   "id": "e548474c-6665-4f75-99d4-47e9a3dc7e27",
   "metadata": {},
   "outputs": [],
   "source": [
    "# create dim_channel_type\n",
    "channel_type_key_list = [0, 1, 2, 3, 4, 5, 10, 11, 12, 13, 14, 15]\n",
    "channel_type_list = ['Server Channel', 'DM', 'Server Voice Text Channel', 'Group DM', 'Server Category', 'Server Annoucements', 'Server Announcment Thread', 'Server Channel Public Thread',\n",
    "                         'Server Channel Private Thread', 'Stage Voice Channel', 'Server Channel Directory', 'Server Forum']\n",
    "dim_channel_type = pd.DataFrame(data={'channel_type_key': channel_type_key_list,\n",
    "                                 'channel_type': channel_type_list})"
   ]
  },
  {
   "cell_type": "code",
   "execution_count": 18,
   "id": "3569d7e3-3b0f-4cd1-b876-105014baa906",
   "metadata": {},
   "outputs": [
    {
     "data": {
      "text/html": [
       "<div>\n",
       "<style scoped>\n",
       "    .dataframe tbody tr th:only-of-type {\n",
       "        vertical-align: middle;\n",
       "    }\n",
       "\n",
       "    .dataframe tbody tr th {\n",
       "        vertical-align: top;\n",
       "    }\n",
       "\n",
       "    .dataframe thead th {\n",
       "        text-align: right;\n",
       "    }\n",
       "</style>\n",
       "<table border=\"1\" class=\"dataframe\">\n",
       "  <thead>\n",
       "    <tr style=\"text-align: right;\">\n",
       "      <th></th>\n",
       "      <th>channel_type_key</th>\n",
       "      <th>channel_type</th>\n",
       "    </tr>\n",
       "  </thead>\n",
       "  <tbody>\n",
       "    <tr>\n",
       "      <th>0</th>\n",
       "      <td>0</td>\n",
       "      <td>Server Channel</td>\n",
       "    </tr>\n",
       "    <tr>\n",
       "      <th>1</th>\n",
       "      <td>1</td>\n",
       "      <td>DM</td>\n",
       "    </tr>\n",
       "    <tr>\n",
       "      <th>2</th>\n",
       "      <td>2</td>\n",
       "      <td>Server Voice Text Channel</td>\n",
       "    </tr>\n",
       "    <tr>\n",
       "      <th>3</th>\n",
       "      <td>3</td>\n",
       "      <td>Group DM</td>\n",
       "    </tr>\n",
       "    <tr>\n",
       "      <th>4</th>\n",
       "      <td>4</td>\n",
       "      <td>Server Category</td>\n",
       "    </tr>\n",
       "    <tr>\n",
       "      <th>5</th>\n",
       "      <td>5</td>\n",
       "      <td>Server Annoucements</td>\n",
       "    </tr>\n",
       "    <tr>\n",
       "      <th>6</th>\n",
       "      <td>10</td>\n",
       "      <td>Server Announcment Thread</td>\n",
       "    </tr>\n",
       "    <tr>\n",
       "      <th>7</th>\n",
       "      <td>11</td>\n",
       "      <td>Server Channel Public Thread</td>\n",
       "    </tr>\n",
       "    <tr>\n",
       "      <th>8</th>\n",
       "      <td>12</td>\n",
       "      <td>Server Channel Private Thread</td>\n",
       "    </tr>\n",
       "    <tr>\n",
       "      <th>9</th>\n",
       "      <td>13</td>\n",
       "      <td>Stage Voice Channel</td>\n",
       "    </tr>\n",
       "    <tr>\n",
       "      <th>10</th>\n",
       "      <td>14</td>\n",
       "      <td>Server Channel Directory</td>\n",
       "    </tr>\n",
       "    <tr>\n",
       "      <th>11</th>\n",
       "      <td>15</td>\n",
       "      <td>Server Forum</td>\n",
       "    </tr>\n",
       "  </tbody>\n",
       "</table>\n",
       "</div>"
      ],
      "text/plain": [
       "    channel_type_key                   channel_type\n",
       "0                  0                 Server Channel\n",
       "1                  1                             DM\n",
       "2                  2      Server Voice Text Channel\n",
       "3                  3                       Group DM\n",
       "4                  4                Server Category\n",
       "5                  5            Server Annoucements\n",
       "6                 10      Server Announcment Thread\n",
       "7                 11   Server Channel Public Thread\n",
       "8                 12  Server Channel Private Thread\n",
       "9                 13            Stage Voice Channel\n",
       "10                14       Server Channel Directory\n",
       "11                15                   Server Forum"
      ]
     },
     "execution_count": 18,
     "metadata": {},
     "output_type": "execute_result"
    }
   ],
   "source": [
    "dim_channel_type"
   ]
  },
  {
   "cell_type": "code",
   "execution_count": 19,
   "id": "fd7bae64",
   "metadata": {},
   "outputs": [],
   "source": [
    "dim_channel_type.to_csv(\"dim_channel_type.csv\", index=False)"
   ]
  }
 ],
 "metadata": {
  "kernelspec": {
   "display_name": "discord-analysis",
   "language": "python",
   "name": "python3"
  },
  "language_info": {
   "codemirror_mode": {
    "name": "ipython",
    "version": 3
   },
   "file_extension": ".py",
   "mimetype": "text/x-python",
   "name": "python",
   "nbconvert_exporter": "python",
   "pygments_lexer": "ipython3",
   "version": "3.10.8"
  },
  "vscode": {
   "interpreter": {
    "hash": "4ca50166e1117471addc1988d7378d5a6eb10b2a99405d14b443ac792552a661"
   }
  }
 },
 "nbformat": 4,
 "nbformat_minor": 5
}
