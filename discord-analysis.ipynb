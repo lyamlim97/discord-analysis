{
 "cells": [
  {
   "cell_type": "code",
   "execution_count": 1,
   "id": "cc8c91c7-25fb-442c-8f43-4c07a67785fd",
   "metadata": {},
   "outputs": [],
   "source": [
    "import json\n",
    "import pandas as pd"
   ]
  },
  {
   "cell_type": "code",
   "execution_count": 2,
   "id": "4b4cfd60-4f15-44d2-89b5-c50c7539d161",
   "metadata": {},
   "outputs": [],
   "source": [
    "# read user file\n",
    "with open(\"package/account/user.json\", \"r\") as read_file:\n",
    "    user = json.load(read_file)"
   ]
  },
  {
   "cell_type": "code",
   "execution_count": 3,
   "id": "364df4a2-427b-459b-a831-68b4351cbb85",
   "metadata": {},
   "outputs": [],
   "source": [
    "# make discord name\n",
    "discord_username_full = user['username'] + '#' + str(user['discriminator'])"
   ]
  },
  {
   "cell_type": "code",
   "execution_count": 4,
   "id": "c79dfaff-b96b-4ef0-a8bc-19caf783d080",
   "metadata": {},
   "outputs": [],
   "source": [
    "# read servers index file\n",
    "with open(\"package/servers/index.json\", \"r\") as read_file:\n",
    "    servers_index = json.load(read_file)"
   ]
  },
  {
   "cell_type": "code",
   "execution_count": 5,
   "id": "25ff8dfc-5876-4ae5-9e55-0158260093e6",
   "metadata": {},
   "outputs": [],
   "source": [
    "# count no of guilds currently in\n",
    "no_of_guilds = len(servers_index)"
   ]
  },
  {
   "cell_type": "code",
   "execution_count": 6,
   "id": "51bcf3e4-4679-4751-b974-4c1d40093a19",
   "metadata": {},
   "outputs": [
    {
     "data": {
      "text/plain": [
       "37"
      ]
     },
     "execution_count": 6,
     "metadata": {},
     "output_type": "execute_result"
    }
   ],
   "source": [
    "no_of_guilds"
   ]
  },
  {
   "cell_type": "code",
   "execution_count": 7,
   "id": "26be93d6-a907-48f9-9932-bec675acb5f1",
   "metadata": {},
   "outputs": [],
   "source": [
    "# read messages index file\n",
    "with open(\"package/messages/index.json\", \"r\") as read_file:\n",
    "    messages_index = json.load(read_file)"
   ]
  },
  {
   "cell_type": "code",
   "execution_count": 15,
   "id": "36833dc5-b7a5-4ed4-a6af-26642ba360a1",
   "metadata": {},
   "outputs": [],
   "source": [
    "server_channel_message_count = 0\n",
    "thread_message_count = 0\n",
    "dms_message_count = 0\n",
    "announcements_message_count = 0\n",
    "group_dms_message_count = 0\n",
    "vc_chat_message_count = 0\n",
    "announcement_thread_message_count = 0\n",
    "others_length = 0\n",
    "\n",
    "for (key, value) in messages_index.items():\n",
    "    # create file path\n",
    "    file_path_head = \"package/messages/c\" + key\n",
    "    csv_file_path = file_path_head + \"/messages.csv\"\n",
    "    json_file_path = file_path_head + \"/channel.json\"\n",
    "    \n",
    "    # read json file\n",
    "    with open(json_file_path, \"r\") as read_file:\n",
    "        json_file = json.load(read_file)\n",
    "        type = json_file['type']\n",
    "     \n",
    "    # read csv file\n",
    "    with open(csv_file_path, \"rb\") as read_file:\n",
    "        messages_file = pd.read_csv(read_file)\n",
    "        messages_file.dropna(subset='Contents', inplace=True)\n",
    "        msg_count = len(messages_file)\n",
    "        \n",
    "    if type == 0:\n",
    "        # server channel\n",
    "        server_channel_message_count = server_channel_message_count + msg_count\n",
    "    elif type == 11:\n",
    "        # thread\n",
    "        thread_message_count = thread_message_count + msg_count\n",
    "    elif type == 1:\n",
    "        # dm\n",
    "        dms_message_count = dms_message_count + msg_count\n",
    "    elif type == 5:\n",
    "        # announcements\n",
    "        announcements_message_count = announcements_message_count + msg_count\n",
    "    elif type == 3:\n",
    "        # group dms\n",
    "        group_dms_message_count = group_dms_message_count + msg_count\n",
    "    elif type == 2:\n",
    "        # vc chat\n",
    "        vc_chat_message_count = vc_chat_message_count + msg_count\n",
    "    elif type == 10:\n",
    "        # annoucement thread\n",
    "        announcement_thread_message_count = announcement_thread_message_count + msg_count\n",
    "    else:\n",
    "        # others\n",
    "        print(type)\n",
    "        print(key)\n",
    "        others_length = others_length + msg_count"
   ]
  },
  {
   "cell_type": "code",
   "execution_count": 20,
   "id": "15fac831-137b-4b4b-81c7-1d2640538bbd",
   "metadata": {},
   "outputs": [],
   "source": [
    "# channel_id | channel_name | type | no_of_msgs | guild_id\n",
    "\n",
    "# make table as above\n",
    "\n",
    "df_messages = pd.DataFrame()\n",
    "\n",
    "for (key, value) in messages_index.items():\n",
    "    # create file path\n",
    "    file_path_head = \"package/messages/c\" + key\n",
    "    csv_file_path = file_path_head + \"/messages.csv\"\n",
    "    json_file_path = file_path_head + \"/channel.json\"\n",
    "    \n",
    "    # read json file\n",
    "    with open(json_file_path, \"r\") as read_file:\n",
    "        json_file = json.load(read_file)\n",
    "        type = json_file['type']\n",
    "     \n",
    "    # read csv file\n",
    "    with open(csv_file_path, \"rb\") as read_file:\n",
    "        messages_file = pd.read_csv(read_file)\n",
    "        messages_file.dropna(subset='Contents', inplace=True)\n",
    "        msg_count = len(messages_file)\n",
    "        \n",
    "    if type == 0:\n",
    "        # server channel\n",
    "        server_channel_message_count = server_channel_message_count + msg_count\n",
    "    elif type == 11:\n",
    "        # thread\n",
    "        thread_message_count = thread_message_count + msg_count\n",
    "    elif type == 1:\n",
    "        # dm\n",
    "        dms_message_count = dms_message_count + msg_count\n",
    "    elif type == 5:\n",
    "        # announcements\n",
    "        announcements_message_count = announcements_message_count + msg_count\n",
    "    elif type == 3:\n",
    "        # group dms\n",
    "        group_dms_message_count = group_dms_message_count + msg_count\n",
    "    elif type == 2:\n",
    "        # vc chat\n",
    "        vc_chat_message_count = vc_chat_message_count + msg_count\n",
    "    elif type == 10:\n",
    "        # annoucement thread\n",
    "        announcement_thread_message_count = announcement_thread_message_count + msg_count\n",
    "    else:\n",
    "        # others\n",
    "        print(type)\n",
    "        print(key)\n",
    "        others_length = others_length + msg_count\n"
   ]
  },
  {
   "cell_type": "code",
   "execution_count": 16,
   "id": "da723892-eb3b-42e7-b344-37b5a628ad7c",
   "metadata": {
    "tags": []
   },
   "outputs": [
    {
     "data": {
      "text/plain": [
       "1838"
      ]
     },
     "execution_count": 16,
     "metadata": {},
     "output_type": "execute_result"
    }
   ],
   "source": [
    "# check staff-pantry\n",
    "msg = pd.read_csv(\"package/messages/c953865732322644038/messages.csv\")\n",
    "msg.dropna(subset='Contents', inplace=True)\n",
    "len(msg)\n",
    "# 1839"
   ]
  },
  {
   "cell_type": "code",
   "execution_count": 17,
   "id": "691caf80-9c2c-420e-839b-679e3bdde77c",
   "metadata": {},
   "outputs": [
    {
     "data": {
      "text/plain": [
       "1556"
      ]
     },
     "execution_count": 17,
     "metadata": {},
     "output_type": "execute_result"
    }
   ],
   "source": [
    "# check general Eat Shit\n",
    "msg = pd.read_csv(\"package/messages/c772081394427101195/messages.csv\")\n",
    "msg.dropna(subset='Contents', inplace=True)\n",
    "len(msg)\n",
    "# 1556"
   ]
  },
  {
   "cell_type": "code",
   "execution_count": 18,
   "id": "48a967d2-c63e-44e1-8991-28b9a2943686",
   "metadata": {},
   "outputs": [
    {
     "data": {
      "text/plain": [
       "1341"
      ]
     },
     "execution_count": 18,
     "metadata": {},
     "output_type": "execute_result"
    }
   ],
   "source": [
    "# check general E404\n",
    "msg = pd.read_csv(\"package/messages/c748565567421808741/messages.csv\")\n",
    "msg.dropna(subset='Contents', inplace=True)\n",
    "len(msg)\n",
    "# 1341"
   ]
  },
  {
   "cell_type": "code",
   "execution_count": 19,
   "id": "f01501ad-c92a-4ba6-8c3f-0edb48aa9385",
   "metadata": {},
   "outputs": [
    {
     "data": {
      "text/plain": [
       "1112"
      ]
     },
     "execution_count": 19,
     "metadata": {},
     "output_type": "execute_result"
    }
   ],
   "source": [
    "# check website-team\n",
    "msg = pd.read_csv(\"package/messages/c947181732807983155/messages.csv\")\n",
    "msg.dropna(subset='Contents', inplace=True)\n",
    "len(msg)\n",
    "# 1112"
   ]
  },
  {
   "cell_type": "code",
   "execution_count": null,
   "id": "f458e08c-4980-4794-8008-642e2ff66ec8",
   "metadata": {},
   "outputs": [],
   "source": [
    "dms_index = dict()\n",
    "server_channel_index = dict()\n",
    "null_index = dict()\n",
    "for (key, value) in messages_index.items():\n",
    "        # check if value is a dm then add to new dict\n",
    "        x = dm_check(key, value)\n",
    "        if x == 0:\n",
    "            dms_index[key] = value\n",
    "        elif x == 1:\n",
    "            server_channel_index[key] = value\n",
    "        else:\n",
    "            null_index[key] = value"
   ]
  }
 ],
 "metadata": {
  "kernelspec": {
   "display_name": "Python 3 (ipykernel)",
   "language": "python",
   "name": "python3"
  },
  "language_info": {
   "codemirror_mode": {
    "name": "ipython",
    "version": 3
   },
   "file_extension": ".py",
   "mimetype": "text/x-python",
   "name": "python",
   "nbconvert_exporter": "python",
   "pygments_lexer": "ipython3",
   "version": "3.9.12"
  }
 },
 "nbformat": 4,
 "nbformat_minor": 5
}
