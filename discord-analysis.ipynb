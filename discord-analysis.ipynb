{
 "cells": [
  {
   "cell_type": "code",
   "execution_count": 48,
   "id": "cc8c91c7-25fb-442c-8f43-4c07a67785fd",
   "metadata": {},
   "outputs": [],
   "source": [
    "import json\n",
    "import pandas as pd\n",
    "import psycopg2\n",
    "from psycopg2 import OperationalError"
   ]
  },
  {
   "cell_type": "code",
   "execution_count": 49,
   "id": "4b4cfd60-4f15-44d2-89b5-c50c7539d161",
   "metadata": {},
   "outputs": [],
   "source": [
    "# read user file\n",
    "with open(\"package/account/user.json\", \"r\") as read_file:\n",
    "    user = json.load(read_file)"
   ]
  },
  {
   "cell_type": "code",
   "execution_count": 50,
   "id": "364df4a2-427b-459b-a831-68b4351cbb85",
   "metadata": {},
   "outputs": [],
   "source": [
    "# make discord name\n",
    "discord_username_full = user['username'] + '#' + str(user['discriminator'])"
   ]
  },
  {
   "cell_type": "code",
   "execution_count": 51,
   "id": "43a907c2",
   "metadata": {},
   "outputs": [],
   "source": [
    "# connect to postgresql db\n",
    "\n",
    "def create_connection(db_name, db_user, db_password, db_host, db_port):\n",
    "    connection = None\n",
    "    try:\n",
    "        connection = psycopg2.connect(\n",
    "            database=db_name,\n",
    "            user=db_user,\n",
    "            password=db_password,\n",
    "            host=db_host,\n",
    "            port=db_port,\n",
    "        )\n",
    "        print(\"Connection to PostgreSQL DB successful\")\n",
    "    except OperationalError as e:\n",
    "        print(f\"The error '{e}' occurred\")\n",
    "    return connection"
   ]
  },
  {
   "cell_type": "code",
   "execution_count": 52,
   "id": "2bbaee9e",
   "metadata": {},
   "outputs": [],
   "source": [
    "import os\n",
    "import json\n",
    "def read_secrets() -> dict:\n",
    "    filename = os.path.join('secrets.json')\n",
    "    try:\n",
    "        with open(filename, mode='r') as f:\n",
    "            return json.loads(f.read())\n",
    "    except FileNotFoundError:\n",
    "        return {}\n",
    "    \n",
    "secrets = read_secrets()"
   ]
  },
  {
   "cell_type": "code",
   "execution_count": null,
   "id": "2013a818",
   "metadata": {},
   "outputs": [],
   "source": []
  }
 ],
 "metadata": {
  "kernelspec": {
   "display_name": "discord-analysis",
   "language": "python",
   "name": "python3"
  },
  "language_info": {
   "codemirror_mode": {
    "name": "ipython",
    "version": 3
   },
   "file_extension": ".py",
   "mimetype": "text/x-python",
   "name": "python",
   "nbconvert_exporter": "python",
   "pygments_lexer": "ipython3",
   "version": "3.10.8"
  },
  "vscode": {
   "interpreter": {
    "hash": "4ca50166e1117471addc1988d7378d5a6eb10b2a99405d14b443ac792552a661"
   }
  }
 },
 "nbformat": 4,
 "nbformat_minor": 5
}
