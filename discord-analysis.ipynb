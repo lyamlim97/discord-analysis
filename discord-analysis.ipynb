{
 "cells": [
  {
   "cell_type": "code",
   "execution_count": 2,
   "id": "cc8c91c7-25fb-442c-8f43-4c07a67785fd",
   "metadata": {},
   "outputs": [],
   "source": [
    "import json\n",
    "import pandas as pd"
   ]
  },
  {
   "cell_type": "code",
   "execution_count": 3,
   "id": "4b4cfd60-4f15-44d2-89b5-c50c7539d161",
   "metadata": {},
   "outputs": [],
   "source": [
    "# read user file\n",
    "with open(\"package/account/user.json\", \"r\") as read_file:\n",
    "    user = json.load(read_file)"
   ]
  },
  {
   "cell_type": "code",
   "execution_count": 4,
   "id": "364df4a2-427b-459b-a831-68b4351cbb85",
   "metadata": {},
   "outputs": [],
   "source": [
    "# make discord name\n",
    "discord_username_full = user['username'] + '#' + str(user['discriminator'])"
   ]
  }
 ],
 "metadata": {
  "kernelspec": {
   "display_name": "Python 3 (ipykernel)",
   "language": "python",
   "name": "python3"
  },
  "language_info": {
   "codemirror_mode": {
    "name": "ipython",
    "version": 3
   },
   "file_extension": ".py",
   "mimetype": "text/x-python",
   "name": "python",
   "nbconvert_exporter": "python",
   "pygments_lexer": "ipython3",
   "version": "3.9.12"
  }
 },
 "nbformat": 4,
 "nbformat_minor": 5
}
