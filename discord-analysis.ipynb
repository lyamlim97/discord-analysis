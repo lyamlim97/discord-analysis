{
 "cells": [
  {
   "attachments": {},
   "cell_type": "markdown",
   "id": "fca0b8a8",
   "metadata": {},
   "source": [
    "## Imports\n"
   ]
  },
  {
   "cell_type": "code",
   "execution_count": null,
   "id": "cc8c91c7-25fb-442c-8f43-4c07a67785fd",
   "metadata": {},
   "outputs": [],
   "source": [
    "import os\n",
    "import json\n",
    "import pandas as pd\n",
    "import psycopg2\n",
    "from psycopg2 import OperationalError\n",
    "from psycopg2 import ProgrammingError\n"
   ]
  },
  {
   "attachments": {},
   "cell_type": "markdown",
   "id": "da2e6164",
   "metadata": {},
   "source": [
    "## Data Connection\n"
   ]
  },
  {
   "cell_type": "code",
   "execution_count": null,
   "id": "4b4cfd60-4f15-44d2-89b5-c50c7539d161",
   "metadata": {},
   "outputs": [],
   "source": [
    "# read user file\n",
    "with open(\"package/account/user.json\", \"r\") as read_file:\n",
    "    user = json.load(read_file)\n"
   ]
  },
  {
   "cell_type": "code",
   "execution_count": null,
   "id": "364df4a2-427b-459b-a831-68b4351cbb85",
   "metadata": {},
   "outputs": [],
   "source": [
    "# make discord name\n",
    "discord_username_full = user[\"username\"] + \"#\" + str(user[\"discriminator\"])\n"
   ]
  },
  {
   "cell_type": "code",
   "execution_count": null,
   "id": "43a907c2",
   "metadata": {},
   "outputs": [],
   "source": [
    "# function to connect to postgresql db\n",
    "def create_connection(db_name, db_user, db_password, db_host, db_port):\n",
    "    try:\n",
    "        connection = psycopg2.connect(\n",
    "            database=db_name,\n",
    "            user=db_user,\n",
    "            password=db_password,\n",
    "            host=db_host,\n",
    "            port=db_port,\n",
    "        )\n",
    "        print(\"Connection to PostgreSQL DB successful\")\n",
    "    except OperationalError as e:\n",
    "        connection = None\n",
    "        print(f\"The error '{e}' occurred\")\n",
    "        print(\"Error Type:\", type(e))\n",
    "\n",
    "    return connection\n"
   ]
  },
  {
   "cell_type": "code",
   "execution_count": null,
   "id": "2bbaee9e",
   "metadata": {},
   "outputs": [],
   "source": [
    "def read_secrets() -> dict:\n",
    "    filename = os.path.join(\"secrets.json\")\n",
    "    try:\n",
    "        with open(filename, mode=\"r\") as f:\n",
    "            return json.loads(f.read())\n",
    "    except FileNotFoundError:\n",
    "        return {}\n"
   ]
  },
  {
   "cell_type": "code",
   "execution_count": null,
   "id": "6bf5d9e0",
   "metadata": {},
   "outputs": [],
   "source": [
    "secrets = read_secrets()"
   ]
  },
  {
   "cell_type": "code",
   "execution_count": null,
   "id": "2013a818",
   "metadata": {},
   "outputs": [],
   "source": [
    "# set up database connection\n",
    "con = create_connection(\n",
    "    secrets[\"db_name\"],\n",
    "    secrets[\"db_user\"],\n",
    "    secrets[\"db_password\"],\n",
    "    secrets[\"db_host\"],\n",
    "    secrets[\"db_port\"],\n",
    ")"
   ]
  },
  {
   "cell_type": "code",
   "execution_count": null,
   "id": "b2ae394c",
   "metadata": {},
   "outputs": [],
   "source": [
    "cur = con.cursor()"
   ]
  },
  {
   "cell_type": "code",
   "execution_count": null,
   "id": "19cc73fa",
   "metadata": {},
   "outputs": [],
   "source": [
    "# function to select data, returns a dataframe\n",
    "def select(query):\n",
    "    data_df = None\n",
    "    try:\n",
    "        cur.execute(query)\n",
    "        col_names = [desc[0] for desc in cur.description]\n",
    "        data_df = pd.DataFrame(data=cur.fetchall(), columns=col_names)\n",
    "    except ProgrammingError as e:\n",
    "        con.rollback()\n",
    "        print(f\"The error '{e}' occurred\")\n",
    "        print(\"Error Type:\", type(e))\n",
    "\n",
    "    return data_df\n"
   ]
  },
  {
   "attachments": {},
   "cell_type": "markdown",
   "id": "5fee3fdb",
   "metadata": {},
   "source": [
    "## Import Data\n"
   ]
  },
  {
   "cell_type": "code",
   "execution_count": null,
   "id": "9283770d",
   "metadata": {},
   "outputs": [],
   "source": [
    "select_query = \"\"\"\n",
    "SELECT *\n",
    "FROM discord_data.dim_channel\n",
    "\"\"\"\n",
    "\n",
    "df_dim_channel = select(select_query)"
   ]
  },
  {
   "cell_type": "code",
   "execution_count": null,
   "id": "0f412784",
   "metadata": {},
   "outputs": [],
   "source": [
    "select_query = \"\"\"\n",
    "SELECT *\n",
    "FROM discord_data.dim_channel_type\n",
    "\"\"\"\n",
    "\n",
    "df_dim_channel_type = select(select_query)"
   ]
  },
  {
   "cell_type": "code",
   "execution_count": null,
   "id": "c3afae5b",
   "metadata": {},
   "outputs": [],
   "source": [
    "select_query = \"\"\"\n",
    "SELECT *\n",
    "FROM discord_data.dim_server\n",
    "\"\"\"\n",
    "\n",
    "df_dim_server = select(select_query)"
   ]
  },
  {
   "cell_type": "code",
   "execution_count": null,
   "id": "706d9a04",
   "metadata": {},
   "outputs": [],
   "source": [
    "select_query = \"\"\"\n",
    "SELECT *\n",
    "FROM discord_data.fact_messages\n",
    "\"\"\"\n",
    "\n",
    "df_fact_messages = select(select_query)"
   ]
  },
  {
   "cell_type": "code",
   "execution_count": null,
   "id": "19bb3413",
   "metadata": {},
   "outputs": [],
   "source": [
    "select_query = \"\"\"\n",
    "SELECT *\n",
    "FROM discord_data.dim_channel dc\n",
    "LEFT JOIN discord_data.dim_channeL_type dct\n",
    "on dc.channel_type_key = dct.channel_type_key\n",
    "LEFT JOIN discord_data.dim_server ds\n",
    "on dc.server_id = ds.server_id\n",
    "LEFT JOIN discord_data.fact_messages fm\n",
    "ON fm.channel_id = dc.channel_id\n",
    "\"\"\"\n",
    "\n",
    "df = select(select_query)"
   ]
  },
  {
   "cell_type": "code",
   "execution_count": null,
   "id": "ac2c56cd",
   "metadata": {},
   "outputs": [],
   "source": [
    "df.head()\n"
   ]
  },
  {
   "cell_type": "code",
   "execution_count": null,
   "id": "f521914d",
   "metadata": {},
   "outputs": [],
   "source": [
    "# read from csv (due to it being semi structured data)\n",
    "# may transition to a NoSQL database in the future\n",
    "df_fact_activity = pd.read_csv(\"fact_activity.csv\")\n"
   ]
  },
  {
   "cell_type": "code",
   "execution_count": null,
   "id": "cc534001",
   "metadata": {},
   "outputs": [],
   "source": [
    "df_fact_activity.head()\n"
   ]
  }
 ],
 "metadata": {
  "kernelspec": {
   "display_name": "discord-analysis",
   "language": "python",
   "name": "python3"
  },
  "language_info": {
   "codemirror_mode": {
    "name": "ipython",
    "version": 3
   },
   "file_extension": ".py",
   "mimetype": "text/x-python",
   "name": "python",
   "nbconvert_exporter": "python",
   "pygments_lexer": "ipython3",
   "version": "3.10.8 | packaged by conda-forge | (main, Nov 24 2022, 14:07:00) [MSC v.1916 64 bit (AMD64)]"
  },
  "vscode": {
   "interpreter": {
    "hash": "4ca50166e1117471addc1988d7378d5a6eb10b2a99405d14b443ac792552a661"
   }
  }
 },
 "nbformat": 4,
 "nbformat_minor": 5
}
