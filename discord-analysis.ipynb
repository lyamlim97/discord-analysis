{
 "cells": [
  {
   "attachments": {},
   "cell_type": "markdown",
   "id": "fca0b8a8",
   "metadata": {},
   "source": [
    "## Imports\n"
   ]
  },
  {
   "cell_type": "code",
   "execution_count": 1,
   "id": "cc8c91c7-25fb-442c-8f43-4c07a67785fd",
   "metadata": {},
   "outputs": [],
   "source": [
    "import os\n",
    "import json\n",
    "import pandas as pd\n",
    "import psycopg2\n",
    "from psycopg2 import OperationalError\n",
    "from psycopg2 import ProgrammingError"
   ]
  },
  {
   "attachments": {},
   "cell_type": "markdown",
   "id": "da2e6164",
   "metadata": {},
   "source": [
    "## Data Connection\n"
   ]
  },
  {
   "cell_type": "code",
   "execution_count": 2,
   "id": "4b4cfd60-4f15-44d2-89b5-c50c7539d161",
   "metadata": {},
   "outputs": [],
   "source": [
    "# read user file\n",
    "with open('package/account/user.json', 'r') as read_file:\n",
    "    user = json.load(read_file)\n"
   ]
  },
  {
   "cell_type": "code",
   "execution_count": 3,
   "id": "364df4a2-427b-459b-a831-68b4351cbb85",
   "metadata": {},
   "outputs": [],
   "source": [
    "# make discord name\n",
    "discord_username_full = user['username'] + '#' + str(user['discriminator'])\n"
   ]
  },
  {
   "cell_type": "code",
   "execution_count": 4,
   "id": "43a907c2",
   "metadata": {},
   "outputs": [],
   "source": [
    "# function to connect to postgresql db\n",
    "def create_connection(db_name, db_user, db_password, db_host, db_port):\n",
    "    try:\n",
    "        connection = psycopg2.connect(\n",
    "            database=db_name,\n",
    "            user=db_user,\n",
    "            password=db_password,\n",
    "            host=db_host,\n",
    "            port=db_port,\n",
    "        )\n",
    "        print('Connection to PostgreSQL DB successful')\n",
    "    except OperationalError as e:\n",
    "        connection = None\n",
    "        print(f\"The error '{e}' occurred\")\n",
    "        print('Error Type:', type(e))\n",
    "\n",
    "    return connection\n"
   ]
  },
  {
   "cell_type": "code",
   "execution_count": 5,
   "id": "2bbaee9e",
   "metadata": {},
   "outputs": [],
   "source": [
    "def read_secrets() -> dict:\n",
    "    filename = os.path.join('secrets.json')\n",
    "    try:\n",
    "        with open(filename, mode='r') as f:\n",
    "            return json.loads(f.read())\n",
    "    except FileNotFoundError:\n",
    "        return {}\n"
   ]
  },
  {
   "cell_type": "code",
   "execution_count": 6,
   "id": "6bf5d9e0",
   "metadata": {},
   "outputs": [],
   "source": [
    "secrets = read_secrets()\n"
   ]
  },
  {
   "cell_type": "code",
   "execution_count": 7,
   "id": "2013a818",
   "metadata": {},
   "outputs": [
    {
     "name": "stdout",
     "output_type": "stream",
     "text": [
      "Connection to PostgreSQL DB successful\n"
     ]
    }
   ],
   "source": [
    "# set up database connection\n",
    "con = create_connection(secrets['db_name'], secrets['db_user'],\n",
    "                        secrets['db_password'], secrets['db_host'], secrets['db_port'])"
   ]
  },
  {
   "cell_type": "code",
   "execution_count": 8,
   "id": "b2ae394c",
   "metadata": {},
   "outputs": [],
   "source": [
    "cur = con.cursor()\n"
   ]
  },
  {
   "cell_type": "code",
   "execution_count": 9,
   "id": "19cc73fa",
   "metadata": {},
   "outputs": [],
   "source": [
    "# function to select data, returns a dataframe\n",
    "def select(query):\n",
    "    data_df = None\n",
    "    try:\n",
    "        cur.execute(query)\n",
    "        col_names = [desc[0] for desc in cur.description]\n",
    "        data_df = pd.DataFrame(data=cur.fetchall(), columns=col_names)\n",
    "    except ProgrammingError as e:\n",
    "        con.rollback()\n",
    "        print(f\"The error '{e}' occurred\")\n",
    "        print('Error Type:', type(e))\n",
    "\n",
    "    return data_df\n"
   ]
  },
  {
   "attachments": {},
   "cell_type": "markdown",
   "id": "5fee3fdb",
   "metadata": {},
   "source": [
    "## Import Data\n"
   ]
  },
  {
   "cell_type": "code",
   "execution_count": 10,
   "id": "9283770d",
   "metadata": {},
   "outputs": [],
   "source": [
    "select_query = \"\"\"\n",
    "SELECT *\n",
    "FROM discord_data.dim_channel\n",
    "\"\"\"\n",
    "\n",
    "df_dim_channel = select(select_query)\n"
   ]
  },
  {
   "cell_type": "code",
   "execution_count": 11,
   "id": "0f412784",
   "metadata": {},
   "outputs": [],
   "source": [
    "select_query = \"\"\"\n",
    "SELECT *\n",
    "FROM discord_data.dim_channel_type\n",
    "\"\"\"\n",
    "\n",
    "df_dim_channel_type = select(select_query)\n"
   ]
  },
  {
   "cell_type": "code",
   "execution_count": 12,
   "id": "c3afae5b",
   "metadata": {},
   "outputs": [],
   "source": [
    "select_query = \"\"\"\n",
    "SELECT *\n",
    "FROM discord_data.dim_server\n",
    "\"\"\"\n",
    "\n",
    "df_dim_server = select(select_query)\n"
   ]
  },
  {
   "cell_type": "code",
   "execution_count": 13,
   "id": "706d9a04",
   "metadata": {},
   "outputs": [],
   "source": [
    "select_query = \"\"\"\n",
    "SELECT *\n",
    "FROM discord_data.fact_messages\n",
    "\"\"\"\n",
    "\n",
    "df_fact_messages = select(select_query)\n"
   ]
  }
 ],
 "metadata": {
  "kernelspec": {
   "display_name": "discord-analysis",
   "language": "python",
   "name": "python3"
  },
  "language_info": {
   "codemirror_mode": {
    "name": "ipython",
    "version": 3
   },
   "file_extension": ".py",
   "mimetype": "text/x-python",
   "name": "python",
   "nbconvert_exporter": "python",
   "pygments_lexer": "ipython3",
   "version": "3.10.8"
  },
  "vscode": {
   "interpreter": {
    "hash": "4ca50166e1117471addc1988d7378d5a6eb10b2a99405d14b443ac792552a661"
   }
  }
 },
 "nbformat": 4,
 "nbformat_minor": 5
}
