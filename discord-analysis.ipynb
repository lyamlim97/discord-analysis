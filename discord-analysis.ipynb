{
 "cells": [
  {
   "cell_type": "code",
   "execution_count": 1,
   "id": "cc8c91c7-25fb-442c-8f43-4c07a67785fd",
   "metadata": {},
   "outputs": [],
   "source": [
    "import os\n",
    "import json\n",
    "import pandas as pd\n",
    "import psycopg2\n",
    "from psycopg2 import OperationalError\n",
    "from psycopg2 import ProgrammingError\n"
   ]
  },
  {
   "cell_type": "code",
   "execution_count": 2,
   "id": "4b4cfd60-4f15-44d2-89b5-c50c7539d161",
   "metadata": {},
   "outputs": [],
   "source": [
    "# read user file\n",
    "with open('package/account/user.json', 'r') as read_file:\n",
    "    user = json.load(read_file)"
   ]
  },
  {
   "cell_type": "code",
   "execution_count": 3,
   "id": "364df4a2-427b-459b-a831-68b4351cbb85",
   "metadata": {},
   "outputs": [],
   "source": [
    "# make discord name\n",
    "discord_username_full = user['username'] + '#' + str(user['discriminator'])"
   ]
  },
  {
   "cell_type": "code",
   "execution_count": 4,
   "id": "43a907c2",
   "metadata": {},
   "outputs": [],
   "source": [
    "# function to connect to postgresql db\n",
    "def create_connection(db_name, db_user, db_password, db_host, db_port):\n",
    "    try:\n",
    "        connection = psycopg2.connect(\n",
    "            database=db_name,\n",
    "            user=db_user,\n",
    "            password=db_password,\n",
    "            host=db_host,\n",
    "            port=db_port,\n",
    "        )\n",
    "        print('Connection to PostgreSQL DB successful')\n",
    "    except OperationalError as e:\n",
    "        connection = None\n",
    "        print(f\"The error '{e}' occurred\")\n",
    "        print('Error Type:', type(e))\n",
    "\n",
    "    return connection"
   ]
  },
  {
   "cell_type": "code",
   "execution_count": 5,
   "id": "2bbaee9e",
   "metadata": {},
   "outputs": [],
   "source": [
    "def read_secrets() -> dict:\n",
    "    filename = os.path.join('secrets.json')\n",
    "    try:\n",
    "        with open(filename, mode='r') as f:\n",
    "            return json.loads(f.read())\n",
    "    except FileNotFoundError:\n",
    "        return {}"
   ]
  },
  {
   "cell_type": "code",
   "execution_count": 6,
   "id": "6bf5d9e0",
   "metadata": {},
   "outputs": [],
   "source": [
    "secrets = read_secrets()"
   ]
  },
  {
   "cell_type": "code",
   "execution_count": 7,
   "id": "2013a818",
   "metadata": {},
   "outputs": [
    {
     "name": "stdout",
     "output_type": "stream",
     "text": [
      "Connection to PostgreSQL DB successful\n"
     ]
    }
   ],
   "source": [
    "# set up database connection\n",
    "con = create_connection(secrets['db_name'], secrets['db_user'],\n",
    "                        secrets['db_password'], secrets['db_host'], secrets['db_port'])\n",
    "\n"
   ]
  },
  {
   "cell_type": "code",
   "execution_count": 8,
   "id": "b2ae394c",
   "metadata": {},
   "outputs": [],
   "source": [
    "cur = con.cursor()"
   ]
  },
  {
   "cell_type": "code",
   "execution_count": 9,
   "id": "19cc73fa",
   "metadata": {},
   "outputs": [],
   "source": [
    "# function to select data, returns a dataframe\n",
    "def select(query):\n",
    "    data_df = None\n",
    "    try:\n",
    "        cur.execute(query)\n",
    "        data_df = pd.DataFrame(cur.fetchall())\n",
    "    except ProgrammingError as e:\n",
    "        con.rollback()\n",
    "        print(f\"The error '{e}' occurred\")\n",
    "        print('Error Type:', type(e))\n",
    "\n",
    "    return data_df"
   ]
  },
  {
   "cell_type": "code",
   "execution_count": 10,
   "id": "b248444e",
   "metadata": {},
   "outputs": [],
   "source": [
    "select_query = \"\"\"\n",
    "SELECT *\n",
    "FROM discord_data.dim_channel_type\n",
    "\"\"\"\n",
    "\n",
    "df = select(select_query)"
   ]
  },
  {
   "cell_type": "code",
   "execution_count": 11,
   "id": "aa4976c7",
   "metadata": {},
   "outputs": [
    {
     "data": {
      "text/html": [
       "<div>\n",
       "<style scoped>\n",
       "    .dataframe tbody tr th:only-of-type {\n",
       "        vertical-align: middle;\n",
       "    }\n",
       "\n",
       "    .dataframe tbody tr th {\n",
       "        vertical-align: top;\n",
       "    }\n",
       "\n",
       "    .dataframe thead th {\n",
       "        text-align: right;\n",
       "    }\n",
       "</style>\n",
       "<table border=\"1\" class=\"dataframe\">\n",
       "  <thead>\n",
       "    <tr style=\"text-align: right;\">\n",
       "      <th></th>\n",
       "      <th>0</th>\n",
       "      <th>1</th>\n",
       "    </tr>\n",
       "  </thead>\n",
       "  <tbody>\n",
       "    <tr>\n",
       "      <th>0</th>\n",
       "      <td>0</td>\n",
       "      <td>Server Channel</td>\n",
       "    </tr>\n",
       "    <tr>\n",
       "      <th>1</th>\n",
       "      <td>1</td>\n",
       "      <td>DM</td>\n",
       "    </tr>\n",
       "    <tr>\n",
       "      <th>2</th>\n",
       "      <td>2</td>\n",
       "      <td>Server Voice Text Channel</td>\n",
       "    </tr>\n",
       "    <tr>\n",
       "      <th>3</th>\n",
       "      <td>3</td>\n",
       "      <td>Group DM</td>\n",
       "    </tr>\n",
       "    <tr>\n",
       "      <th>4</th>\n",
       "      <td>4</td>\n",
       "      <td>Server Category</td>\n",
       "    </tr>\n",
       "    <tr>\n",
       "      <th>5</th>\n",
       "      <td>5</td>\n",
       "      <td>Server Annoucements</td>\n",
       "    </tr>\n",
       "    <tr>\n",
       "      <th>6</th>\n",
       "      <td>10</td>\n",
       "      <td>Server Announcment Thread</td>\n",
       "    </tr>\n",
       "    <tr>\n",
       "      <th>7</th>\n",
       "      <td>11</td>\n",
       "      <td>Server Channel Public Thread</td>\n",
       "    </tr>\n",
       "    <tr>\n",
       "      <th>8</th>\n",
       "      <td>12</td>\n",
       "      <td>Server Channel Private Thread</td>\n",
       "    </tr>\n",
       "    <tr>\n",
       "      <th>9</th>\n",
       "      <td>13</td>\n",
       "      <td>Stage Voice Channel</td>\n",
       "    </tr>\n",
       "    <tr>\n",
       "      <th>10</th>\n",
       "      <td>14</td>\n",
       "      <td>Server Channel Directory</td>\n",
       "    </tr>\n",
       "    <tr>\n",
       "      <th>11</th>\n",
       "      <td>15</td>\n",
       "      <td>Server Forum</td>\n",
       "    </tr>\n",
       "  </tbody>\n",
       "</table>\n",
       "</div>"
      ],
      "text/plain": [
       "     0                              1\n",
       "0    0                 Server Channel\n",
       "1    1                             DM\n",
       "2    2      Server Voice Text Channel\n",
       "3    3                       Group DM\n",
       "4    4                Server Category\n",
       "5    5            Server Annoucements\n",
       "6   10      Server Announcment Thread\n",
       "7   11   Server Channel Public Thread\n",
       "8   12  Server Channel Private Thread\n",
       "9   13            Stage Voice Channel\n",
       "10  14       Server Channel Directory\n",
       "11  15                   Server Forum"
      ]
     },
     "execution_count": 11,
     "metadata": {},
     "output_type": "execute_result"
    }
   ],
   "source": [
    "df\n"
   ]
  }
 ],
 "metadata": {
  "kernelspec": {
   "display_name": "discord-analysis",
   "language": "python",
   "name": "python3"
  },
  "language_info": {
   "codemirror_mode": {
    "name": "ipython",
    "version": 3
   },
   "file_extension": ".py",
   "mimetype": "text/x-python",
   "name": "python",
   "nbconvert_exporter": "python",
   "pygments_lexer": "ipython3",
   "version": "3.10.8"
  },
  "vscode": {
   "interpreter": {
    "hash": "4ca50166e1117471addc1988d7378d5a6eb10b2a99405d14b443ac792552a661"
   }
  }
 },
 "nbformat": 4,
 "nbformat_minor": 5
}
