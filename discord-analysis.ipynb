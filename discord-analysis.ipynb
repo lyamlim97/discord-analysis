{
 "cells": [
  {
   "attachments": {},
   "cell_type": "markdown",
   "id": "fca0b8a8",
   "metadata": {},
   "source": [
    "## Imports\n"
   ]
  },
  {
   "cell_type": "code",
   "execution_count": 1,
   "id": "cc8c91c7-25fb-442c-8f43-4c07a67785fd",
   "metadata": {},
   "outputs": [],
   "source": [
    "import os\n",
    "import json\n",
    "import pandas as pd\n",
    "import psycopg2\n",
    "from psycopg2 import OperationalError\n",
    "from psycopg2 import ProgrammingError\n"
   ]
  },
  {
   "attachments": {},
   "cell_type": "markdown",
   "id": "da2e6164",
   "metadata": {},
   "source": [
    "## Data Connection\n"
   ]
  },
  {
   "cell_type": "code",
   "execution_count": 2,
   "id": "4b4cfd60-4f15-44d2-89b5-c50c7539d161",
   "metadata": {},
   "outputs": [],
   "source": [
    "# read user file\n",
    "with open('package/account/user.json', 'r') as read_file:\n",
    "    user = json.load(read_file)"
   ]
  },
  {
   "cell_type": "code",
   "execution_count": 3,
   "id": "364df4a2-427b-459b-a831-68b4351cbb85",
   "metadata": {},
   "outputs": [],
   "source": [
    "# make discord name\n",
    "discord_username_full = user['username'] + '#' + str(user['discriminator'])"
   ]
  },
  {
   "cell_type": "code",
   "execution_count": 4,
   "id": "43a907c2",
   "metadata": {},
   "outputs": [],
   "source": [
    "# function to connect to postgresql db\n",
    "def create_connection(db_name, db_user, db_password, db_host, db_port):\n",
    "    try:\n",
    "        connection = psycopg2.connect(\n",
    "            database=db_name,\n",
    "            user=db_user,\n",
    "            password=db_password,\n",
    "            host=db_host,\n",
    "            port=db_port,\n",
    "        )\n",
    "        print('Connection to PostgreSQL DB successful')\n",
    "    except OperationalError as e:\n",
    "        connection = None\n",
    "        print(f\"The error '{e}' occurred\")\n",
    "        print('Error Type:', type(e))\n",
    "\n",
    "    return connection"
   ]
  },
  {
   "cell_type": "code",
   "execution_count": 5,
   "id": "2bbaee9e",
   "metadata": {},
   "outputs": [],
   "source": [
    "def read_secrets() -> dict:\n",
    "    filename = os.path.join('secrets.json')\n",
    "    try:\n",
    "        with open(filename, mode='r') as f:\n",
    "            return json.loads(f.read())\n",
    "    except FileNotFoundError:\n",
    "        return {}"
   ]
  },
  {
   "cell_type": "code",
   "execution_count": 6,
   "id": "6bf5d9e0",
   "metadata": {},
   "outputs": [],
   "source": [
    "secrets = read_secrets()"
   ]
  },
  {
   "cell_type": "code",
   "execution_count": 7,
   "id": "2013a818",
   "metadata": {},
   "outputs": [
    {
     "name": "stdout",
     "output_type": "stream",
     "text": [
      "Connection to PostgreSQL DB successful\n"
     ]
    }
   ],
   "source": [
    "# set up database connection\n",
    "con = create_connection(secrets['db_name'], secrets['db_user'],\n",
    "                        secrets['db_password'], secrets['db_host'], secrets['db_port'])\n"
   ]
  },
  {
   "cell_type": "code",
   "execution_count": 8,
   "id": "b2ae394c",
   "metadata": {},
   "outputs": [],
   "source": [
    "cur = con.cursor()"
   ]
  },
  {
   "cell_type": "code",
   "execution_count": 9,
   "id": "19cc73fa",
   "metadata": {},
   "outputs": [],
   "source": [
    "# function to select data, returns a dataframe\n",
    "def select(query):\n",
    "    data_df = None\n",
    "    try:\n",
    "        cur.execute(query)\n",
    "        col_names = [desc[0] for desc in cur.description]\n",
    "        data_df = pd.DataFrame(data=cur.fetchall(), columns=col_names)\n",
    "    except ProgrammingError as e:\n",
    "        con.rollback()\n",
    "        print(f\"The error '{e}' occurred\")\n",
    "        print('Error Type:', type(e))\n",
    "\n",
    "    return data_df"
   ]
  },
  {
   "attachments": {},
   "cell_type": "markdown",
   "id": "5fee3fdb",
   "metadata": {},
   "source": [
    "## Import Data\n"
   ]
  },
  {
   "cell_type": "code",
   "execution_count": 10,
   "id": "9283770d",
   "metadata": {},
   "outputs": [],
   "source": [
    "select_query = \"\"\"\n",
    "SELECT *\n",
    "FROM discord_data.dim_channel\n",
    "\"\"\"\n",
    "\n",
    "df_dim_channel = select(select_query)"
   ]
  },
  {
   "cell_type": "code",
   "execution_count": 11,
   "id": "0f412784",
   "metadata": {},
   "outputs": [],
   "source": [
    "select_query = \"\"\"\n",
    "SELECT *\n",
    "FROM discord_data.dim_channel_type\n",
    "\"\"\"\n",
    "\n",
    "df_dim_channel_type = select(select_query)"
   ]
  },
  {
   "cell_type": "code",
   "execution_count": 12,
   "id": "c3afae5b",
   "metadata": {},
   "outputs": [],
   "source": [
    "select_query = \"\"\"\n",
    "SELECT *\n",
    "FROM discord_data.dim_server\n",
    "\"\"\"\n",
    "\n",
    "df_dim_server = select(select_query)"
   ]
  },
  {
   "cell_type": "code",
   "execution_count": 13,
   "id": "706d9a04",
   "metadata": {},
   "outputs": [],
   "source": [
    "select_query = \"\"\"\n",
    "SELECT *\n",
    "FROM discord_data.fact_messages\n",
    "\"\"\"\n",
    "\n",
    "df_fact_messages = select(select_query)"
   ]
  },
  {
   "cell_type": "code",
   "execution_count": 14,
   "id": "19bb3413",
   "metadata": {},
   "outputs": [],
   "source": [
    "select_query = \"\"\"\n",
    "SELECT *\n",
    "FROM discord_data.dim_channel dc\n",
    "LEFT JOIN discord_data.dim_channeL_type dct\n",
    "on dc.channel_type_key = dct.channel_type_key\n",
    "LEFT JOIN discord_data.dim_server ds\n",
    "on dc.server_id = ds.server_id\n",
    "LEFT JOIN discord_data.fact_messages fm\n",
    "ON fm.channel_id = dc.channel_id\n",
    "\"\"\"\n",
    "\n",
    "df = select(select_query)"
   ]
  },
  {
   "cell_type": "code",
   "execution_count": 15,
   "id": "ac2c56cd",
   "metadata": {},
   "outputs": [
    {
     "data": {
      "text/html": [
       "<div>\n",
       "<style scoped>\n",
       "    .dataframe tbody tr th:only-of-type {\n",
       "        vertical-align: middle;\n",
       "    }\n",
       "\n",
       "    .dataframe tbody tr th {\n",
       "        vertical-align: top;\n",
       "    }\n",
       "\n",
       "    .dataframe thead th {\n",
       "        text-align: right;\n",
       "    }\n",
       "</style>\n",
       "<table border=\"1\" class=\"dataframe\">\n",
       "  <thead>\n",
       "    <tr style=\"text-align: right;\">\n",
       "      <th></th>\n",
       "      <th>channel_id</th>\n",
       "      <th>channel_name</th>\n",
       "      <th>channel_type_key</th>\n",
       "      <th>server_id</th>\n",
       "      <th>channel_type_key</th>\n",
       "      <th>channel_type</th>\n",
       "      <th>server_id</th>\n",
       "      <th>server_name</th>\n",
       "      <th>message_id</th>\n",
       "      <th>message_timestamp</th>\n",
       "      <th>contents</th>\n",
       "      <th>attachment_link</th>\n",
       "      <th>channel_id</th>\n",
       "    </tr>\n",
       "  </thead>\n",
       "  <tbody>\n",
       "    <tr>\n",
       "      <th>0</th>\n",
       "      <td>1019163001686855720</td>\n",
       "      <td>mochi fan club</td>\n",
       "      <td>3</td>\n",
       "      <td>NaN</td>\n",
       "      <td>3</td>\n",
       "      <td>Group DM</td>\n",
       "      <td>NaN</td>\n",
       "      <td>None</td>\n",
       "      <td>1.054978e+18</td>\n",
       "      <td>2022-12-21 04:25:35.105000+00:00</td>\n",
       "      <td>im not familiar with it but all the best</td>\n",
       "      <td>None</td>\n",
       "      <td>1.019163e+18</td>\n",
       "    </tr>\n",
       "    <tr>\n",
       "      <th>1</th>\n",
       "      <td>1019163001686855720</td>\n",
       "      <td>mochi fan club</td>\n",
       "      <td>3</td>\n",
       "      <td>NaN</td>\n",
       "      <td>3</td>\n",
       "      <td>Group DM</td>\n",
       "      <td>NaN</td>\n",
       "      <td>None</td>\n",
       "      <td>1.054978e+18</td>\n",
       "      <td>2022-12-21 04:24:21.416000+00:00</td>\n",
       "      <td>oh no</td>\n",
       "      <td>None</td>\n",
       "      <td>1.019163e+18</td>\n",
       "    </tr>\n",
       "    <tr>\n",
       "      <th>2</th>\n",
       "      <td>1019163001686855720</td>\n",
       "      <td>mochi fan club</td>\n",
       "      <td>3</td>\n",
       "      <td>NaN</td>\n",
       "      <td>3</td>\n",
       "      <td>Group DM</td>\n",
       "      <td>NaN</td>\n",
       "      <td>None</td>\n",
       "      <td>1.054977e+18</td>\n",
       "      <td>2022-12-21 04:23:46.918000+00:00</td>\n",
       "      <td>hi</td>\n",
       "      <td>None</td>\n",
       "      <td>1.019163e+18</td>\n",
       "    </tr>\n",
       "    <tr>\n",
       "      <th>3</th>\n",
       "      <td>1019163001686855720</td>\n",
       "      <td>mochi fan club</td>\n",
       "      <td>3</td>\n",
       "      <td>NaN</td>\n",
       "      <td>3</td>\n",
       "      <td>Group DM</td>\n",
       "      <td>NaN</td>\n",
       "      <td>None</td>\n",
       "      <td>1.054977e+18</td>\n",
       "      <td>2022-12-21 04:23:13.260000+00:00</td>\n",
       "      <td>&lt;a:r_rage:832036415436488765&gt;</td>\n",
       "      <td>None</td>\n",
       "      <td>1.019163e+18</td>\n",
       "    </tr>\n",
       "    <tr>\n",
       "      <th>4</th>\n",
       "      <td>1019163001686855720</td>\n",
       "      <td>mochi fan club</td>\n",
       "      <td>3</td>\n",
       "      <td>NaN</td>\n",
       "      <td>3</td>\n",
       "      <td>Group DM</td>\n",
       "      <td>NaN</td>\n",
       "      <td>None</td>\n",
       "      <td>1.054977e+18</td>\n",
       "      <td>2022-12-21 04:23:11.610000+00:00</td>\n",
       "      <td>'ppl don wan u or u don wan ppl?'</td>\n",
       "      <td>None</td>\n",
       "      <td>1.019163e+18</td>\n",
       "    </tr>\n",
       "  </tbody>\n",
       "</table>\n",
       "</div>"
      ],
      "text/plain": [
       "            channel_id    channel_name  channel_type_key  server_id  \\\n",
       "0  1019163001686855720  mochi fan club                 3        NaN   \n",
       "1  1019163001686855720  mochi fan club                 3        NaN   \n",
       "2  1019163001686855720  mochi fan club                 3        NaN   \n",
       "3  1019163001686855720  mochi fan club                 3        NaN   \n",
       "4  1019163001686855720  mochi fan club                 3        NaN   \n",
       "\n",
       "   channel_type_key channel_type  server_id server_name    message_id  \\\n",
       "0                 3     Group DM        NaN        None  1.054978e+18   \n",
       "1                 3     Group DM        NaN        None  1.054978e+18   \n",
       "2                 3     Group DM        NaN        None  1.054977e+18   \n",
       "3                 3     Group DM        NaN        None  1.054977e+18   \n",
       "4                 3     Group DM        NaN        None  1.054977e+18   \n",
       "\n",
       "                 message_timestamp                                  contents  \\\n",
       "0 2022-12-21 04:25:35.105000+00:00  im not familiar with it but all the best   \n",
       "1 2022-12-21 04:24:21.416000+00:00                                     oh no   \n",
       "2 2022-12-21 04:23:46.918000+00:00                                        hi   \n",
       "3 2022-12-21 04:23:13.260000+00:00             <a:r_rage:832036415436488765>   \n",
       "4 2022-12-21 04:23:11.610000+00:00         'ppl don wan u or u don wan ppl?'   \n",
       "\n",
       "  attachment_link    channel_id  \n",
       "0            None  1.019163e+18  \n",
       "1            None  1.019163e+18  \n",
       "2            None  1.019163e+18  \n",
       "3            None  1.019163e+18  \n",
       "4            None  1.019163e+18  "
      ]
     },
     "execution_count": 15,
     "metadata": {},
     "output_type": "execute_result"
    }
   ],
   "source": [
    "df.head()\n"
   ]
  }
 ],
 "metadata": {
  "kernelspec": {
   "display_name": "discord-analysis",
   "language": "python",
   "name": "python3"
  },
  "language_info": {
   "codemirror_mode": {
    "name": "ipython",
    "version": 3
   },
   "file_extension": ".py",
   "mimetype": "text/x-python",
   "name": "python",
   "nbconvert_exporter": "python",
   "pygments_lexer": "ipython3",
   "version": "3.10.8"
  },
  "vscode": {
   "interpreter": {
    "hash": "4ca50166e1117471addc1988d7378d5a6eb10b2a99405d14b443ac792552a661"
   }
  }
 },
 "nbformat": 4,
 "nbformat_minor": 5
}
